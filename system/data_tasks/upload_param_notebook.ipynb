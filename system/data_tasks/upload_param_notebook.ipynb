{
 "cells": [
  {
   "cell_type": "code",
   "execution_count": null,
   "metadata": {},
   "outputs": [],
   "source": [
    "params = {}"
   ]
  },
  {
   "cell_type": "code",
   "execution_count": null,
   "metadata": {},
   "outputs": [],
   "source": [
    "import time\n",
    "import json\n",
    "import sys\n",
    "\n",
    "from data_task_helpers import something\n",
    "\n",
    "from services.dte_tools.data_task_tools import assert_dte_tools_available, get_resolved_parameters_for_connection, initialise_data_task  # noqa: E402\n",
    "\n"
   ]
  },
  {
   "cell_type": "code",
   "execution_count": null,
   "metadata": {},
   "outputs": [],
   "source": [
    "\n",
    "environment = initialise_data_task(\"Data Upload Task Running\", params=params)\n",
    "params[\"year\"] = params.get(\"year\")\n",
    "\n",
    "if not params[\"year\"]:\n",
    "    environment.log_error(\"Please select the year for which you want to upload data!\")\n"
   ]
  },
  {
   "cell_type": "code",
   "execution_count": null,
   "metadata": {},
   "outputs": [],
   "source": [
    "if params[\"year\"]:\n",
    "    time.sleep(1.0)\n",
    "    environment.log_message(\"Data upload for the year %s\" % params[\"year\"])"
   ]
  },
  {
   "cell_type": "code",
   "execution_count": null,
   "metadata": {},
   "outputs": [],
   "source": [
    "if params[\"year\"]:\n",
    "    time.sleep(1.0)\n",
    "    environment.log_message(f\"Uploaded dim_age_group data\")"
   ]
  },
  {
   "cell_type": "code",
   "execution_count": null,
   "metadata": {},
   "outputs": [],
   "source": [
    "if params[\"year\"]:\n",
    "    time.sleep(1.0)\n",
    "    environment.log_message(f\"Uploaded dim_art_regimen data\")"
   ]
  },
  {
   "cell_type": "code",
   "execution_count": null,
   "metadata": {},
   "outputs": [],
   "source": [
    "if params[\"year\"]:\n",
    "    time.sleep(1.0)\n",
    "    environment.log_message(f\"Uploaded dim_date data\")"
   ]
  },
  {
   "cell_type": "code",
   "execution_count": null,
   "metadata": {},
   "outputs": [],
   "source": [
    "if params[\"year\"]:\n",
    "    time.sleep(1.0)\n",
    "    environment.log_message(f\"Uploaded dim_facility data\")"
   ]
  },
  {
   "cell_type": "code",
   "execution_count": null,
   "metadata": {},
   "outputs": [],
   "source": [
    "if params[\"year\"]:\n",
    "    time.sleep(1.0)\n",
    "    environment.log_message(f\"Uploaded dim_client data\")"
   ]
  },
  {
   "cell_type": "code",
   "execution_count": null,
   "metadata": {},
   "outputs": [],
   "source": [
    "if params[\"year\"]:\n",
    "    time.sleep(1.0)\n",
    "    environment.log_message(f\"Uploaded fact_sentinel_event data\")"
   ]
  },
  {
   "cell_type": "code",
   "execution_count": null,
   "metadata": {},
   "outputs": [],
   "source": [
    "if params[\"year\"]:\n",
    "    environment.log_message('Data Successfully Uploaded!')"
   ]
  }
 ],
 "metadata": {
  "kernelspec": {
   "display_name": ".venv",
   "language": "python",
   "name": "python3"
  },
  "language_info": {
   "codemirror_mode": {
    "name": "ipython",
    "version": 3
   },
   "file_extension": ".py",
   "mimetype": "text/x-python",
   "name": "python",
   "nbconvert_exporter": "python",
   "pygments_lexer": "ipython3",
   "version": "3.11.5"
  }
 },
 "nbformat": 4,
 "nbformat_minor": 2
}
