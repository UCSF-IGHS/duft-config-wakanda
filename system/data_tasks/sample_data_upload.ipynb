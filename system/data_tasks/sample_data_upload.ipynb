{
 "cells": [
  {
   "cell_type": "code",
   "execution_count": 109,
   "metadata": {},
   "outputs": [],
   "source": [
    "params = {}"
   ]
  },
  {
   "cell_type": "code",
   "execution_count": 110,
   "metadata": {},
   "outputs": [],
   "source": [
    "import time\n",
    "import json\n",
    "import sys\n",
    "\n",
    "from services.config.service.config_directories import directories, get_directories\n",
    "from services.dte_tools.data_task_tools import assert_dte_tools_available, get_resolved_parameters_for_connection, initialise_data_task, post_file_to_duft_server  # noqa: E402"
   ]
  },
  {
   "cell_type": "code",
   "execution_count": 111,
   "metadata": {},
   "outputs": [
    {
     "name": "stdout",
     "output_type": "stream",
     "text": [
      "[2025-04-22T14:12:21.048716] Jupyter Sample Data Upload Task - INFO: Jupyter Sample Data Upload Task initialised running in active mode\n",
      "Jupyter Sample Data Upload Task >>>: Jupyter Sample Data Upload Task initialised running in active mode\n"
     ]
    }
   ],
   "source": [
    "   \n",
    "environment = initialise_data_task(\"Jupyter Sample Data Upload Task\", params=params)\n",
    "params[\"name\"] = params.get(\"customname\", params.get(\"name\", \"No parameters given!\"))\n",
    "\n",
    "if not params:\n",
    "    environment.log_error(\"No parameters given!\")\n",
    "    "
   ]
  },
  {
   "cell_type": "code",
   "execution_count": 112,
   "metadata": {},
   "outputs": [
    {
     "name": "stdout",
     "output_type": "stream",
     "text": [
      "DTE Tools available\n",
      "[2025-04-22T14:12:21.056661] Jupyter Sample Data Upload Task - INFO: Data Upload Starting!\n",
      "Jupyter Sample Data Upload Task >>>: Data Upload Starting!\n",
      "[2025-04-22T14:12:21.057641] Jupyter Sample Data Upload Task - INFO: Using parameters: {'server': '127.0.0.1', 'username': 'user', 'password': 'mysecretword', 'port': '5432', 'database': 'analysis', 'sqlite3file': 'wakanda.sqlite', 'type': 'sqlite3'}\n",
      "Jupyter Sample Data Upload Task >>>: Using parameters: {'server': '127.0.0.1', 'username': 'user', 'password': 'mysecretword', 'port': '5432', 'database': 'analysis', 'sqlite3file': 'wakanda.sqlite', 'type': 'sqlite3'}\n",
      "[2025-04-22T14:12:21.058462] Jupyter Sample Data Upload Task - INFO: Using temp directory: /Users/davidsongikandi/Documents/Gikandi/Work/repo/duft-workspace-django/tmp-data-tasks\n",
      "Jupyter Sample Data Upload Task >>>: Using temp directory: /Users/davidsongikandi/Documents/Gikandi/Work/repo/duft-workspace-django/tmp-data-tasks\n",
      "{'server': 'http://127.0.0.1:8000', 'username': 'advanced_dashboard_user', 'password': '--------'}\n"
     ]
    }
   ],
   "source": [
    "assert_dte_tools_available()\n",
    "\n",
    "resolved_parameters = get_resolved_parameters_for_connection(\"ANA\")\n",
    "resolved_server_api_parameters = get_resolved_parameters_for_connection(\"DUFT-SERVER-API\")\n",
    "tmp_dir = directories.data_tasks_temp_directory\n",
    "data_dir = directories.data_directory\n",
    "environment.log_message('Data Upload Starting!')\n",
    "environment.log_message(\"Using parameters: %s\" % resolved_parameters)\n",
    "environment.log_message(\"Using temp directory: %s\" % tmp_dir)\n",
    "    \n",
    "print(resolved_server_api_parameters)"
   ]
  },
  {
   "cell_type": "code",
   "execution_count": 113,
   "metadata": {},
   "outputs": [
    {
     "data": {
      "text/html": [
       "<div>\n",
       "<style scoped>\n",
       "    .dataframe tbody tr th:only-of-type {\n",
       "        vertical-align: middle;\n",
       "    }\n",
       "\n",
       "    .dataframe tbody tr th {\n",
       "        vertical-align: top;\n",
       "    }\n",
       "\n",
       "    .dataframe thead th {\n",
       "        text-align: right;\n",
       "    }\n",
       "</style>\n",
       "<table border=\"1\" class=\"dataframe\">\n",
       "  <thead>\n",
       "    <tr style=\"text-align: right;\">\n",
       "      <th></th>\n",
       "      <th>client_id</th>\n",
       "      <th>emr_identifier</th>\n",
       "      <th>patient_pkv</th>\n",
       "      <th>facility_number</th>\n",
       "      <th>pbs_scenario</th>\n",
       "      <th>his_entry_type</th>\n",
       "      <th>number_h</th>\n",
       "      <th>birth_date</th>\n",
       "      <th>gender</th>\n",
       "      <th>death_date</th>\n",
       "      <th>...</th>\n",
       "      <th>is_disabled</th>\n",
       "      <th>disability</th>\n",
       "      <th>residence_ward</th>\n",
       "      <th>residence_village</th>\n",
       "      <th>residence_sub_county</th>\n",
       "      <th>residence_district</th>\n",
       "      <th>residence_county</th>\n",
       "      <th>residence_region</th>\n",
       "      <th>residence_country</th>\n",
       "      <th>date_imported_emr</th>\n",
       "    </tr>\n",
       "  </thead>\n",
       "  <tbody>\n",
       "    <tr>\n",
       "      <th>0</th>\n",
       "      <td>1025682</td>\n",
       "      <td>1111130</td>\n",
       "      <td></td>\n",
       "      <td>1025698</td>\n",
       "      <td></td>\n",
       "      <td>EMR</td>\n",
       "      <td></td>\n",
       "      <td>1960-12-24</td>\n",
       "      <td>Female</td>\n",
       "      <td></td>\n",
       "      <td>...</td>\n",
       "      <td></td>\n",
       "      <td></td>\n",
       "      <td></td>\n",
       "      <td></td>\n",
       "      <td></td>\n",
       "      <td></td>\n",
       "      <td></td>\n",
       "      <td></td>\n",
       "      <td>Wakanda</td>\n",
       "      <td></td>\n",
       "    </tr>\n",
       "    <tr>\n",
       "      <th>1</th>\n",
       "      <td>1129715</td>\n",
       "      <td>1215163</td>\n",
       "      <td></td>\n",
       "      <td>1129731</td>\n",
       "      <td></td>\n",
       "      <td>EMR</td>\n",
       "      <td></td>\n",
       "      <td>1982-04-09</td>\n",
       "      <td>Female</td>\n",
       "      <td></td>\n",
       "      <td>...</td>\n",
       "      <td></td>\n",
       "      <td></td>\n",
       "      <td></td>\n",
       "      <td></td>\n",
       "      <td></td>\n",
       "      <td></td>\n",
       "      <td></td>\n",
       "      <td></td>\n",
       "      <td>Wakanda</td>\n",
       "      <td></td>\n",
       "    </tr>\n",
       "    <tr>\n",
       "      <th>2</th>\n",
       "      <td>1132571</td>\n",
       "      <td>1218019</td>\n",
       "      <td></td>\n",
       "      <td>1132587</td>\n",
       "      <td></td>\n",
       "      <td>EMR</td>\n",
       "      <td></td>\n",
       "      <td>1983-06-15</td>\n",
       "      <td>Female</td>\n",
       "      <td></td>\n",
       "      <td>...</td>\n",
       "      <td></td>\n",
       "      <td></td>\n",
       "      <td></td>\n",
       "      <td></td>\n",
       "      <td></td>\n",
       "      <td></td>\n",
       "      <td></td>\n",
       "      <td></td>\n",
       "      <td>Wakanda</td>\n",
       "      <td></td>\n",
       "    </tr>\n",
       "    <tr>\n",
       "      <th>3</th>\n",
       "      <td>1132573</td>\n",
       "      <td>1218021</td>\n",
       "      <td></td>\n",
       "      <td>1132589</td>\n",
       "      <td></td>\n",
       "      <td>EMR</td>\n",
       "      <td></td>\n",
       "      <td>1979-10-14</td>\n",
       "      <td>Male</td>\n",
       "      <td></td>\n",
       "      <td>...</td>\n",
       "      <td></td>\n",
       "      <td></td>\n",
       "      <td></td>\n",
       "      <td></td>\n",
       "      <td></td>\n",
       "      <td></td>\n",
       "      <td></td>\n",
       "      <td></td>\n",
       "      <td>Wakanda</td>\n",
       "      <td></td>\n",
       "    </tr>\n",
       "    <tr>\n",
       "      <th>4</th>\n",
       "      <td>1132575</td>\n",
       "      <td>1218023</td>\n",
       "      <td></td>\n",
       "      <td>1132591</td>\n",
       "      <td></td>\n",
       "      <td>EMR</td>\n",
       "      <td></td>\n",
       "      <td>2008-10-08</td>\n",
       "      <td>Male</td>\n",
       "      <td></td>\n",
       "      <td>...</td>\n",
       "      <td></td>\n",
       "      <td></td>\n",
       "      <td></td>\n",
       "      <td></td>\n",
       "      <td></td>\n",
       "      <td></td>\n",
       "      <td></td>\n",
       "      <td></td>\n",
       "      <td>Wakanda</td>\n",
       "      <td></td>\n",
       "    </tr>\n",
       "  </tbody>\n",
       "</table>\n",
       "<p>5 rows × 28 columns</p>\n",
       "</div>"
      ],
      "text/plain": [
       "  client_id emr_identifier patient_pkv facility_number pbs_scenario  \\\n",
       "0   1025682        1111130                     1025698                \n",
       "1   1129715        1215163                     1129731                \n",
       "2   1132571        1218019                     1132587                \n",
       "3   1132573        1218021                     1132589                \n",
       "4   1132575        1218023                     1132591                \n",
       "\n",
       "  his_entry_type number_h  birth_date  gender death_date  ... is_disabled  \\\n",
       "0            EMR           1960-12-24  Female             ...               \n",
       "1            EMR           1982-04-09  Female             ...               \n",
       "2            EMR           1983-06-15  Female             ...               \n",
       "3            EMR           1979-10-14    Male             ...               \n",
       "4            EMR           2008-10-08    Male             ...               \n",
       "\n",
       "  disability residence_ward residence_village residence_sub_county  \\\n",
       "0                                                                    \n",
       "1                                                                    \n",
       "2                                                                    \n",
       "3                                                                    \n",
       "4                                                                    \n",
       "\n",
       "  residence_district residence_county residence_region residence_country  \\\n",
       "0                                                                Wakanda   \n",
       "1                                                                Wakanda   \n",
       "2                                                                Wakanda   \n",
       "3                                                                Wakanda   \n",
       "4                                                                Wakanda   \n",
       "\n",
       "  date_imported_emr  \n",
       "0                    \n",
       "1                    \n",
       "2                    \n",
       "3                    \n",
       "4                    \n",
       "\n",
       "[5 rows x 28 columns]"
      ]
     },
     "execution_count": 113,
     "metadata": {},
     "output_type": "execute_result"
    }
   ],
   "source": [
    "# Load sample dataset from SQL File\n",
    "\n",
    "import pandas as pd\n",
    "import sqlite3\n",
    "import os\n",
    "\n",
    "# Load the data\n",
    "conn = sqlite3.connect(os.path.join(data_dir, resolved_parameters['sqlite3file']))\n",
    "data = pd.read_sql_query(\"SELECT * FROM dim_client LIMIT 20\", conn)\n",
    "conn.close()\n",
    "\n",
    "file_to_save = os.path.join(tmp_dir, 'dim_client_sample.csv')\n",
    "data.to_csv(file_to_save, index=False)\n",
    "\n",
    "data.head()\n",
    "\n"
   ]
  },
  {
   "cell_type": "code",
   "execution_count": 114,
   "metadata": {},
   "outputs": [
    {
     "name": "stdout",
     "output_type": "stream",
     "text": [
      "[2025-04-22T14:12:21.612792] Jupyter Sample Data Upload Task - ERROR: Failed to authenticate: 401 - {\"detail\":\"No active account found with the given credentials\"}\n",
      "[2025-04-22T14:12:21.614127] Jupyter Sample Data Upload Task - ERROR: Failed to upload file: Failed to authenticate: 401 - {\"detail\":\"No active account found with the given credentials\"}\n",
      "Jupyter Sample Data Upload Task >>>: ERROR: Failed to upload file: Failed to authenticate: 401 - {\"detail\":\"No active account found with the given credentials\"}\n"
     ]
    }
   ],
   "source": [
    "try:\n",
    "    post_file_to_duft_server(\n",
    "        resolved_server_api_parameters[\"server\"], \n",
    "        resolved_server_api_parameters[\"username\"], \n",
    "        resolved_server_api_parameters[\"password\"], \n",
    "        file_to_save, \n",
    "        \"client-list\")\n",
    "    \n",
    "    environment.log_message('Data Upload Complete!')\n",
    "\n",
    "except Exception as e:\n",
    "    environment.log_error(f\"Failed to upload file: {e}\")\n",
    "\n"
   ]
  },
  {
   "cell_type": "code",
   "execution_count": 115,
   "metadata": {},
   "outputs": [
    {
     "name": "stdout",
     "output_type": "stream",
     "text": [
      "[2025-04-22T14:12:21.621871] Jupyter Sample Data Upload Task - INFO: Removing data file: /Users/davidsongikandi/Documents/Gikandi/Work/repo/duft-workspace-django/tmp-data-tasks/dim_client_sample.csv\n",
      "Jupyter Sample Data Upload Task >>>: Removing data file: /Users/davidsongikandi/Documents/Gikandi/Work/repo/duft-workspace-django/tmp-data-tasks/dim_client_sample.csv\n"
     ]
    }
   ],
   "source": [
    "if os.path.exists(file_to_save):\n",
    "    os.remove(file_to_save)\n",
    "    environment.log_message(f\"Removing data file: {file_to_save}\")\n",
    "else:\n",
    "    environment.log_message(f\"File does not exist: {file_to_save}\")"
   ]
  },
  {
   "cell_type": "code",
   "execution_count": 116,
   "metadata": {},
   "outputs": [
    {
     "name": "stdout",
     "output_type": "stream",
     "text": [
      "[2025-04-22T14:12:21.626360] Jupyter Sample Data Upload Task - INFO: Data Upload Completed!\n",
      "Jupyter Sample Data Upload Task >>>: Data Upload Completed!\n"
     ]
    }
   ],
   "source": [
    "\n",
    "environment.log_message('Data Upload Completed!')"
   ]
  }
 ],
 "metadata": {
  "kernelspec": {
   "display_name": ".venv",
   "language": "python",
   "name": "python3"
  },
  "language_info": {
   "codemirror_mode": {
    "name": "ipython",
    "version": 3
   },
   "file_extension": ".py",
   "mimetype": "text/x-python",
   "name": "python",
   "nbconvert_exporter": "python",
   "pygments_lexer": "ipython3",
   "version": "3.11.5"
  }
 },
 "nbformat": 4,
 "nbformat_minor": 2
}
