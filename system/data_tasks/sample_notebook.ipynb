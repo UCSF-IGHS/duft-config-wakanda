{
 "cells": [
  {
   "cell_type": "code",
   "execution_count": 28,
   "metadata": {},
   "outputs": [],
   "source": [
    "params = {}"
   ]
  },
  {
   "cell_type": "code",
   "execution_count": 29,
   "metadata": {},
   "outputs": [],
   "source": [
    "import time\n",
    "import json\n",
    "import sys\n",
    "\n",
    "from services.dte_tools.data_task_tools import assert_dte_tools_available, get_resolved_parameters_for_connection, initialise_data_task  # noqa: E402\n",
    "\n"
   ]
  },
  {
   "cell_type": "code",
   "execution_count": 30,
   "metadata": {},
   "outputs": [
    {
     "name": "stdout",
     "output_type": "stream",
     "text": [
      "[2025-02-24T11:36:06.482377] Wakanda Data Refresh Task Running - INFO: Wakanda Data Refresh Task Running initialised running in active mode\n",
      "Wakanda Data Refresh Task Running >>>: Wakanda Data Refresh Task Running initialised running in active mode\n"
     ]
    }
   ],
   "source": [
    "\n",
    "environment = initialise_data_task(\"Wakanda Data Refresh Task Running\", params=params)\n",
    "params[\"name\"] = params.get(\"customname\", params.get(\"name\", \"No parameters given!\"))\n",
    "params[\"sleep_time\"] = params.get(\"sleep_time\", 0.2)\n",
    "\n",
    "if not params:\n",
    "    environment.log_error(\"No parameters given!\")\n"
   ]
  },
  {
   "cell_type": "code",
   "execution_count": 31,
   "metadata": {},
   "outputs": [
    {
     "name": "stdout",
     "output_type": "stream",
     "text": [
      "[2025-02-24T11:36:07.492666] Wakanda Data Refresh Task Running - INFO: Script starting!\n",
      "Wakanda Data Refresh Task Running >>>: Script starting!\n"
     ]
    }
   ],
   "source": [
    "time.sleep(1.0)\n",
    "environment.log_message('Script starting!')"
   ]
  },
  {
   "cell_type": "code",
   "execution_count": 32,
   "metadata": {},
   "outputs": [
    {
     "name": "stdout",
     "output_type": "stream",
     "text": [
      "[2025-02-24T11:36:08.506735] Wakanda Data Refresh Task Running - INFO: Loaded dim_age_group data\n",
      "Wakanda Data Refresh Task Running >>>: Loaded dim_age_group data\n"
     ]
    }
   ],
   "source": [
    "time.sleep(1.0)\n",
    "environment.log_message(f\"Loaded dim_age_group data\")"
   ]
  },
  {
   "cell_type": "code",
   "execution_count": 33,
   "metadata": {},
   "outputs": [
    {
     "name": "stdout",
     "output_type": "stream",
     "text": [
      "[2025-02-24T11:36:09.530294] Wakanda Data Refresh Task Running - INFO: Loaded dim_art_regimen data\n",
      "Wakanda Data Refresh Task Running >>>: Loaded dim_art_regimen data\n"
     ]
    }
   ],
   "source": [
    "time.sleep(1.0)\n",
    "environment.log_message(f\"Loaded dim_art_regimen data\")"
   ]
  },
  {
   "cell_type": "code",
   "execution_count": 34,
   "metadata": {},
   "outputs": [
    {
     "name": "stdout",
     "output_type": "stream",
     "text": [
      "[2025-02-24T11:36:10.541485] Wakanda Data Refresh Task Running - INFO: Loaded dim_date data\n",
      "Wakanda Data Refresh Task Running >>>: Loaded dim_date data\n"
     ]
    }
   ],
   "source": [
    "time.sleep(1.0)\n",
    "environment.log_message(f\"Loaded dim_date data\")"
   ]
  },
  {
   "cell_type": "code",
   "execution_count": 35,
   "metadata": {},
   "outputs": [
    {
     "name": "stdout",
     "output_type": "stream",
     "text": [
      "[2025-02-24T11:36:11.559648] Wakanda Data Refresh Task Running - INFO: Loaded dim_facility data\n",
      "Wakanda Data Refresh Task Running >>>: Loaded dim_facility data\n"
     ]
    }
   ],
   "source": [
    "time.sleep(1.0)\n",
    "environment.log_message(f\"Loaded dim_facility data\")"
   ]
  },
  {
   "cell_type": "code",
   "execution_count": 36,
   "metadata": {},
   "outputs": [
    {
     "name": "stdout",
     "output_type": "stream",
     "text": [
      "[2025-02-24T11:36:12.582803] Wakanda Data Refresh Task Running - INFO: Loaded dim_client data\n",
      "Wakanda Data Refresh Task Running >>>: Loaded dim_client data\n"
     ]
    }
   ],
   "source": [
    "time.sleep(1.0)\n",
    "environment.log_message(f\"Loaded dim_client data\")"
   ]
  },
  {
   "cell_type": "code",
   "execution_count": 37,
   "metadata": {},
   "outputs": [
    {
     "name": "stdout",
     "output_type": "stream",
     "text": [
      "[2025-02-24T11:36:13.612104] Wakanda Data Refresh Task Running - INFO: Loaded fact_sentinel_event data\n",
      "Wakanda Data Refresh Task Running >>>: Loaded fact_sentinel_event data\n"
     ]
    }
   ],
   "source": [
    "time.sleep(1.0)\n",
    "environment.log_message(f\"Loaded fact_sentinel_event data\")"
   ]
  },
  {
   "cell_type": "code",
   "execution_count": 38,
   "metadata": {},
   "outputs": [
    {
     "name": "stdout",
     "output_type": "stream",
     "text": [
      "[2025-02-24T11:36:13.631673] Wakanda Data Refresh Task Running - INFO: Script completed!\n",
      "Wakanda Data Refresh Task Running >>>: Script completed!\n"
     ]
    }
   ],
   "source": [
    "environment.log_message('Script completed!')"
   ]
  }
 ],
 "metadata": {
  "kernelspec": {
   "display_name": ".venv",
   "language": "python",
   "name": "python3"
  },
  "language_info": {
   "codemirror_mode": {
    "name": "ipython",
    "version": 3
   },
   "file_extension": ".py",
   "mimetype": "text/x-python",
   "name": "python",
   "nbconvert_exporter": "python",
   "pygments_lexer": "ipython3",
   "version": "3.11.5"
  }
 },
 "nbformat": 4,
 "nbformat_minor": 2
}
